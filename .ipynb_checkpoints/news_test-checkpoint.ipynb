{
 "cells": [
  {
   "cell_type": "code",
   "execution_count": 5,
   "metadata": {},
   "outputs": [],
   "source": [
    "import numpy as np\n",
    "import pandas as pd\n",
    "import itertools\n",
    "from sklearn.model_selection import train_test_split\n",
    "from sklearn.feature_extraction.text import TfidfVectorizer\n",
    "from sklearn.linear_model import PassiveAggressiveClassifier\n",
    "from sklearn.metrics import accuracy_score, confusion_matrix\n",
    "from sklearn.model_selection import cross_val_score\n",
    "import sklearn.metrics as metrics\n",
    "from sklearn.metrics import plot_confusion_matrix\n",
    "%matplotlib inline\n",
    "from matplotlib import pyplot as plt\n",
    "import seaborn as sns\n",
    "from sklearn.utils import shuffle"
   ]
  },
  {
   "cell_type": "code",
   "execution_count": 6,
   "metadata": {},
   "outputs": [
    {
     "name": "stdout",
     "output_type": "stream",
     "text": [
      "<class 'pandas.core.frame.DataFrame'>\n",
      "RangeIndex: 20800 entries, 0 to 20799\n",
      "Data columns (total 5 columns):\n",
      " #   Column  Non-Null Count  Dtype \n",
      "---  ------  --------------  ----- \n",
      " 0   id      20800 non-null  int64 \n",
      " 1   title   20242 non-null  object\n",
      " 2   author  18843 non-null  object\n",
      " 3   text    20761 non-null  object\n",
      " 4   label   20800 non-null  int64 \n",
      "dtypes: int64(2), object(3)\n",
      "memory usage: 812.6+ KB\n"
     ]
    }
   ],
   "source": [
    "df=pd.read_csv('train.csv')\n",
    "df = shuffle(df)\n",
    "df = df.reset_index(drop=True)\n",
    "df.isnull().sum()    \n",
    "df.info()"
   ]
  },
  {
   "cell_type": "code",
   "execution_count": 7,
   "metadata": {},
   "outputs": [
    {
     "name": "stdout",
     "output_type": "stream",
     "text": [
      "<class 'pandas.core.frame.DataFrame'>\n",
      "Int64Index: 18285 entries, 1 to 20799\n",
      "Data columns (total 5 columns):\n",
      " #   Column  Non-Null Count  Dtype \n",
      "---  ------  --------------  ----- \n",
      " 0   id      18285 non-null  int64 \n",
      " 1   title   18285 non-null  object\n",
      " 2   author  18285 non-null  object\n",
      " 3   text    18285 non-null  object\n",
      " 4   label   18285 non-null  int64 \n",
      "dtypes: int64(2), object(3)\n",
      "memory usage: 857.1+ KB\n"
     ]
    }
   ],
   "source": [
    "df = shuffle(df)\n",
    "df = df.reset_index(drop=True)\n",
    "df.isnull().sum()    \n",
    "df.dropna(inplace=True) #drop rows have at least 1 NaN value ,  inplace=True make permanent\n",
    "df.info()"
   ]
  },
  {
   "cell_type": "code",
   "execution_count": 8,
   "metadata": {},
   "outputs": [
    {
     "data": {
      "text/plain": [
       "Real    10361\n",
       "Fake     7924\n",
       "Name: label, dtype: int64"
      ]
     },
     "execution_count": 8,
     "metadata": {},
     "output_type": "execute_result"
    }
   ],
   "source": [
    "conversion_dict = { 0:'Real', 1:'Fake'}\n",
    "df['label'] = df['label'].replace(conversion_dict)\n",
    "df.label.value_counts()"
   ]
  },
  {
   "cell_type": "code",
   "execution_count": 9,
   "metadata": {},
   "outputs": [
    {
     "data": {
      "text/html": [
       "<div>\n",
       "<style scoped>\n",
       "    .dataframe tbody tr th:only-of-type {\n",
       "        vertical-align: middle;\n",
       "    }\n",
       "\n",
       "    .dataframe tbody tr th {\n",
       "        vertical-align: top;\n",
       "    }\n",
       "\n",
       "    .dataframe thead th {\n",
       "        text-align: right;\n",
       "    }\n",
       "</style>\n",
       "<table border=\"1\" class=\"dataframe\">\n",
       "  <thead>\n",
       "    <tr style=\"text-align: right;\">\n",
       "      <th></th>\n",
       "      <th>text</th>\n",
       "      <th>label</th>\n",
       "    </tr>\n",
       "  </thead>\n",
       "  <tbody>\n",
       "    <tr>\n",
       "      <th>0</th>\n",
       "      <td>\\nbreaking all the breaking noise from the lef...</td>\n",
       "      <td>Fake</td>\n",
       "    </tr>\n",
       "    <tr>\n",
       "      <th>1</th>\n",
       "      <td>leah h. somerville, a harvard neuroscientist, ...</td>\n",
       "      <td>Real</td>\n",
       "    </tr>\n",
       "    <tr>\n",
       "      <th>2</th>\n",
       "      <td>an influx of up to 300, 000 migrant children c...</td>\n",
       "      <td>Real</td>\n",
       "    </tr>\n",
       "    <tr>\n",
       "      <th>3</th>\n",
       "      <td>search zineb el rhazoui, charlie hebdo survivo...</td>\n",
       "      <td>Fake</td>\n",
       "    </tr>\n",
       "    <tr>\n",
       "      <th>4</th>\n",
       "      <td>part 4 of o’keefe’s project veritas videos has...</td>\n",
       "      <td>Fake</td>\n",
       "    </tr>\n",
       "    <tr>\n",
       "      <th>...</th>\n",
       "      <td>...</td>\n",
       "      <td>...</td>\n",
       "    </tr>\n",
       "    <tr>\n",
       "      <th>18280</th>\n",
       "      <td>at stanford university, in a conference room a...</td>\n",
       "      <td>Real</td>\n",
       "    </tr>\n",
       "    <tr>\n",
       "      <th>18281</th>\n",
       "      <td>here's something interesting from the unz revi...</td>\n",
       "      <td>Fake</td>\n",
       "    </tr>\n",
       "    <tr>\n",
       "      <th>18282</th>\n",
       "      <td>thursday on his nationally syndicated radio sh...</td>\n",
       "      <td>Real</td>\n",
       "    </tr>\n",
       "    <tr>\n",
       "      <th>18283</th>\n",
       "      <td>dakar, senegal  —   the political standoff in ...</td>\n",
       "      <td>Real</td>\n",
       "    </tr>\n",
       "    <tr>\n",
       "      <th>18284</th>\n",
       "      <td>seoul, south korea  —   the north korean leade...</td>\n",
       "      <td>Real</td>\n",
       "    </tr>\n",
       "  </tbody>\n",
       "</table>\n",
       "<p>18285 rows × 2 columns</p>\n",
       "</div>"
      ],
      "text/plain": [
       "                                                    text label\n",
       "0      \\nbreaking all the breaking noise from the lef...  Fake\n",
       "1      leah h. somerville, a harvard neuroscientist, ...  Real\n",
       "2      an influx of up to 300, 000 migrant children c...  Real\n",
       "3      search zineb el rhazoui, charlie hebdo survivo...  Fake\n",
       "4      part 4 of o’keefe’s project veritas videos has...  Fake\n",
       "...                                                  ...   ...\n",
       "18280  at stanford university, in a conference room a...  Real\n",
       "18281  here's something interesting from the unz revi...  Fake\n",
       "18282  thursday on his nationally syndicated radio sh...  Real\n",
       "18283  dakar, senegal  —   the political standoff in ...  Real\n",
       "18284  seoul, south korea  —   the north korean leade...  Real\n",
       "\n",
       "[18285 rows x 2 columns]"
      ]
     },
     "execution_count": 9,
     "metadata": {},
     "output_type": "execute_result"
    }
   ],
   "source": [
    "df.drop([\"title\"],axis=1,inplace=True)\n",
    "df.drop([\"id\"],axis=1,inplace=True)\n",
    "df.drop([\"author\"],axis=1,inplace=True)\n",
    "\n",
    "#df['text'] = df['text'].str.replace(r'\\W',\"\")\n",
    "\n",
    "df['text']=df['text'].apply(str)\n",
    "\n",
    "df['text'] = df['text'].apply(lambda x: x.lower())\n",
    "\n",
    "df = shuffle(df)\n",
    "df = df.reset_index(drop=True)\n",
    "\n",
    "df"
   ]
  },
  {
   "cell_type": "code",
   "execution_count": 10,
   "metadata": {
    "scrolled": true
   },
   "outputs": [
    {
     "data": {
      "text/plain": [
       "<AxesSubplot:>"
      ]
     },
     "execution_count": 10,
     "metadata": {},
     "output_type": "execute_result"
    },
    {
     "data": {
      "image/png": "[encoded data removed]",
      "text/plain": [
       "<Figure size 432x288 with 1 Axes>"
      ]
     },
     "metadata": {
      "needs_background": "light"
     },
     "output_type": "display_data"
    }
   ],
   "source": [
    "df['label'].value_counts().plot(kind = 'bar')"
   ]
  },
  {
   "cell_type": "code",
   "execution_count": 11,
   "metadata": {},
   "outputs": [
    {
     "data": {
      "text/html": [
       "<div>\n",
       "<style scoped>\n",
       "    .dataframe tbody tr th:only-of-type {\n",
       "        vertical-align: middle;\n",
       "    }\n",
       "\n",
       "    .dataframe tbody tr th {\n",
       "        vertical-align: top;\n",
       "    }\n",
       "\n",
       "    .dataframe thead th {\n",
       "        text-align: right;\n",
       "    }\n",
       "</style>\n",
       "<table border=\"1\" class=\"dataframe\">\n",
       "  <thead>\n",
       "    <tr style=\"text-align: right;\">\n",
       "      <th></th>\n",
       "      <th>text</th>\n",
       "      <th>label</th>\n",
       "    </tr>\n",
       "  </thead>\n",
       "  <tbody>\n",
       "    <tr>\n",
       "      <th>0</th>\n",
       "      <td>\\nbreaking all the breaking noise from the lef...</td>\n",
       "      <td>Fake</td>\n",
       "    </tr>\n",
       "    <tr>\n",
       "      <th>1</th>\n",
       "      <td>leah h. somerville, a harvard neuroscientist, ...</td>\n",
       "      <td>Real</td>\n",
       "    </tr>\n",
       "    <tr>\n",
       "      <th>2</th>\n",
       "      <td>an influx of up to 300, 000 migrant children c...</td>\n",
       "      <td>Real</td>\n",
       "    </tr>\n",
       "    <tr>\n",
       "      <th>3</th>\n",
       "      <td>search zineb el rhazoui, charlie hebdo survivo...</td>\n",
       "      <td>Fake</td>\n",
       "    </tr>\n",
       "    <tr>\n",
       "      <th>4</th>\n",
       "      <td>part 4 of o’keefe’s project veritas videos has...</td>\n",
       "      <td>Fake</td>\n",
       "    </tr>\n",
       "    <tr>\n",
       "      <th>...</th>\n",
       "      <td>...</td>\n",
       "      <td>...</td>\n",
       "    </tr>\n",
       "    <tr>\n",
       "      <th>18280</th>\n",
       "      <td>at stanford university, in a conference room a...</td>\n",
       "      <td>Real</td>\n",
       "    </tr>\n",
       "    <tr>\n",
       "      <th>18281</th>\n",
       "      <td>here's something interesting from the unz revi...</td>\n",
       "      <td>Fake</td>\n",
       "    </tr>\n",
       "    <tr>\n",
       "      <th>18282</th>\n",
       "      <td>thursday on his nationally syndicated radio sh...</td>\n",
       "      <td>Real</td>\n",
       "    </tr>\n",
       "    <tr>\n",
       "      <th>18283</th>\n",
       "      <td>dakar, senegal  —   the political standoff in ...</td>\n",
       "      <td>Real</td>\n",
       "    </tr>\n",
       "    <tr>\n",
       "      <th>18284</th>\n",
       "      <td>seoul, south korea  —   the north korean leade...</td>\n",
       "      <td>Real</td>\n",
       "    </tr>\n",
       "  </tbody>\n",
       "</table>\n",
       "<p>18285 rows × 2 columns</p>\n",
       "</div>"
      ],
      "text/plain": [
       "                                                    text label\n",
       "0      \\nbreaking all the breaking noise from the lef...  Fake\n",
       "1      leah h. somerville, a harvard neuroscientist, ...  Real\n",
       "2      an influx of up to 300, 000 migrant children c...  Real\n",
       "3      search zineb el rhazoui, charlie hebdo survivo...  Fake\n",
       "4      part 4 of o’keefe’s project veritas videos has...  Fake\n",
       "...                                                  ...   ...\n",
       "18280  at stanford university, in a conference room a...  Real\n",
       "18281  here's something interesting from the unz revi...  Fake\n",
       "18282  thursday on his nationally syndicated radio sh...  Real\n",
       "18283  dakar, senegal  —   the political standoff in ...  Real\n",
       "18284  seoul, south korea  —   the north korean leade...  Real\n",
       "\n",
       "[18285 rows x 2 columns]"
      ]
     },
     "execution_count": 11,
     "metadata": {},
     "output_type": "execute_result"
    }
   ],
   "source": [
    "df"
   ]
  },
  {
   "cell_type": "code",
   "execution_count": 14,
   "metadata": {},
   "outputs": [
    {
     "data": {
      "text/plain": [
       "'\\nbreaking all the breaking noise from the leftist media pundits establishment scum satanists celebrities filth of the earth party traitors and everyone who opposed donald j trump bow down to the great 45th president of the united states of america\\nbow down scum you are all defeated\\nso far donald trump stands at 276 electors out of 270 needed to win the presidency counting is still going on in some states such as arizona new hampshire michigan and alaska after counting is over in those states trump could very well exceed 300 electors\\nthis victory qualifies as a landslide\\ndonald trump fought a long war he was despised and hated by the media and by the establishment but he eventually won now its time for maga\\nfirst and foremost we would like to thank god himself for helping the light to prevail against the dark after years of darkness its finally time for light\\nsecond we congratulate trump himself for all the hardwork and he did work very hard speech after speech little pause little sleep he deserves the victory\\nthird we would like to thank each and every single small blog forum youtuber news website and ourselves of course the eu times which stood firm with trump since day 1 when he first announced and to each and every single activist who helped propel donald trump to victory\\nfourth we would like to thank the american voter who was smart and ignored all the noise and hate against donald trump\\nmake america great again\\nmake europe great again\\n\\n\\n'"
      ]
     },
     "execution_count": 14,
     "metadata": {},
     "output_type": "execute_result"
    }
   ],
   "source": [
    "import string \n",
    "#df[\"text\"] = df['text'].str.replace('[^\\w\\s]','')\n",
    "df['text'].str.replace('[{}]'.format(string.punctuation), '')\n",
    "df['text'][0]"
   ]
  },
  {
   "cell_type": "code",
   "execution_count": 15,
   "metadata": {},
   "outputs": [],
   "source": [
    "x_train,x_test,y_train,y_test=train_test_split(df['text'], df['label'], test_size=0.2, random_state=7, shuffle=True)\n",
    "tfidf_vectorizer=TfidfVectorizer(stop_words='english', max_df=0.7) #delete uninformative stop words him and etc..."
   ]
  },
  {
   "cell_type": "code",
   "execution_count": 16,
   "metadata": {},
   "outputs": [
    {
     "data": {
      "text/plain": [
       "'Fake'"
      ]
     },
     "execution_count": 16,
     "metadata": {},
     "output_type": "execute_result"
    }
   ],
   "source": [
    "y_train[0]"
   ]
  },
  {
   "cell_type": "code",
   "execution_count": 17,
   "metadata": {},
   "outputs": [
    {
     "data": {
      "text/plain": [
       "'\\nbreaking all the breaking noise from the leftist media pundits establishment scum satanists celebrities filth of the earth party traitors and everyone who opposed donald j trump bow down to the great 45th president of the united states of america\\nbow down scum you are all defeated\\nso far donald trump stands at 276 electors out of 270 needed to win the presidency counting is still going on in some states such as arizona new hampshire michigan and alaska after counting is over in those states trump could very well exceed 300 electors\\nthis victory qualifies as a landslide\\ndonald trump fought a long war he was despised and hated by the media and by the establishment but he eventually won now its time for maga\\nfirst and foremost we would like to thank god himself for helping the light to prevail against the dark after years of darkness its finally time for light\\nsecond we congratulate trump himself for all the hardwork and he did work very hard speech after speech little pause little sleep he deserves the victory\\nthird we would like to thank each and every single small blog forum youtuber news website and ourselves of course the eu times which stood firm with trump since day 1 when he first announced and to each and every single activist who helped propel donald trump to victory\\nfourth we would like to thank the american voter who was smart and ignored all the noise and hate against donald trump\\nmake america great again\\nmake europe great again\\n\\n\\n'"
      ]
     },
     "execution_count": 17,
     "metadata": {},
     "output_type": "execute_result"
    }
   ],
   "source": [
    "x_train[0]"
   ]
  },
  {
   "cell_type": "code",
   "execution_count": 18,
   "metadata": {},
   "outputs": [],
   "source": [
    "vec_train=tfidf_vectorizer.fit_transform(x_train.values.astype('U')) #fit to data than transform it \n",
    "vec_test=tfidf_vectorizer.transform(x_test.values.astype('U')) #Uses the vocabulary and document frequencies (df) \n",
    "# which learned by fit_transform"
   ]
  },
  {
   "cell_type": "code",
   "execution_count": 19,
   "metadata": {},
   "outputs": [
    {
     "data": {
      "text/plain": [
       "PassiveAggressiveClassifier(max_iter=50)"
      ]
     },
     "execution_count": 19,
     "metadata": {},
     "output_type": "execute_result"
    }
   ],
   "source": [
    "pac=PassiveAggressiveClassifier(max_iter=50) #maximum number of passes over the training epochs, responds happenning in  \n",
    "# every 50 iterations. Default is 1000 but for large datas\n",
    "#gets stimulates by wrong epochs and have responds to actions\n",
    "pac.fit(vec_train,y_train) # fit label to vector train to teach ML how to respond"
   ]
  },
  {
   "cell_type": "code",
   "execution_count": 20,
   "metadata": {},
   "outputs": [],
   "source": [
    "y_pred=pac.predict(vec_test) #giving 0.8 of data to empty matrix \n",
    "score=accuracy_score(y_test,y_pred) # y_pred's labels will be passed to y_test empty matrix , than it will be compared with \n",
    "#y_train which actual label "
   ]
  },
  {
   "cell_type": "code",
   "execution_count": 21,
   "metadata": {},
   "outputs": [
    {
     "name": "stdout",
     "output_type": "stream",
     "text": [
      "Accuracy score \n",
      "96.5\n"
     ]
    }
   ],
   "source": [
    "print('Accuracy score ')\n",
    "print(round(score*100,3))"
   ]
  },
  {
   "cell_type": "code",
   "execution_count": 22,
   "metadata": {},
   "outputs": [
    {
     "data": {
      "text/plain": [
       "array([[1994,   66],\n",
       "       [  62, 1535]], dtype=int64)"
      ]
     },
     "execution_count": 22,
     "metadata": {},
     "output_type": "execute_result"
    }
   ],
   "source": [
    "confusion_matrix(y_test,y_pred, labels=['Real','Fake']) #1608 true tested text which 63 times ML was wrong \n",
    "#1205 fake news tested but 76 times ML was wrong"
   ]
  },
  {
   "cell_type": "code",
   "execution_count": 23,
   "metadata": {},
   "outputs": [
    {
     "name": "stdout",
     "output_type": "stream",
     "text": [
      "              precision    recall  f1-score   support\n",
      "\n",
      "        Fake       0.96      0.96      0.96      1597\n",
      "        Real       0.97      0.97      0.97      2060\n",
      "\n",
      "    accuracy                           0.96      3657\n",
      "   macro avg       0.96      0.96      0.96      3657\n",
      "weighted avg       0.97      0.96      0.97      3657\n",
      "\n"
     ]
    }
   ],
   "source": [
    "from sklearn.metrics import classification_report\n",
    "report = classification_report(y_test,y_pred)\n",
    "print(report)"
   ]
  },
  {
   "cell_type": "code",
   "execution_count": 24,
   "metadata": {},
   "outputs": [
    {
     "data": {
      "text/plain": [
       "' all of them between 0-1\\ntp / (tp + fp) precision -> tp is the number of true positives and fp the number of false positives\\ntp / (tp + fn) recall -> fn the number of false negatives\\n\\nweighted harmonic mean of the precision and recall->f1-score\\n\\nThe number of occurrences of each label in y_true ->support\\n'"
      ]
     },
     "execution_count": 24,
     "metadata": {},
     "output_type": "execute_result"
    }
   ],
   "source": [
    "''' all of them between 0-1\n",
    "tp / (tp + fp) precision -> tp is the number of true positives and fp the number of false positives\n",
    "tp / (tp + fn) recall -> fn the number of false negatives\n",
    "\n",
    "weighted harmonic mean of the precision and recall->f1-score\n",
    "\n",
    "The number of occurrences of each label in y_true ->support\n",
    "'''"
   ]
  },
  {
   "cell_type": "code",
   "execution_count": 47,
   "metadata": {},
   "outputs": [
    {
     "name": "stdout",
     "output_type": "stream",
     "text": [
      "Confusion matrix, without normalization\n"
     ]
    },
    {
     "data": {
      "image/png": "[encoded data removed]",
      "text/plain": [
       "<Figure size 432x288 with 1 Axes>"
      ]
     },
     "metadata": {
      "needs_background": "light"
     },
     "output_type": "display_data"
    }
   ],
   "source": [
    "# https://stackoverflow.com/questions/48817300/sklearn-plot-confusion-matrix-combined-across-trainingtest-sets\n",
    "def plot_confusion_matrix(cm, classes,\n",
    "                          normalize=False,\n",
    "                          title='Confusion matrix',\n",
    "                          cmap=plt.cm.Blues):\n",
    "    plt.imshow(cm, interpolation='nearest', cmap=cmap)\n",
    "    #plt.title(title)\n",
    "    #plt.colorbar()\n",
    "    tick_marks = np.arange(len(classes))\n",
    "    plt.xticks(tick_marks, classes, rotation=45)\n",
    "    plt.yticks(tick_marks, classes)\n",
    "\n",
    "    if normalize:\n",
    "        cm = cm.astype('float') / cm.sum(axis=1)[:, np.newaxis]\n",
    "        print(\"Normalized confusion matrix\")\n",
    "    else:\n",
    "        print('Confusion matrix, without normalization')\n",
    "\n",
    "    thresh = cm.max() / 2.\n",
    "    for i, j in itertools.product(range(cm.shape[0]), range(cm.shape[1])):\n",
    "        plt.text(j, i, cm[i, j],\n",
    "                 horizontalalignment=\"center\",\n",
    "                 color=\"white\" if cm[i, j] > thresh else \"black\")\n",
    "\n",
    "    #plt.tight_layout()\n",
    "    plt.ylabel('True label')\n",
    "    plt.xlabel('Predicted label')\n",
    "\n",
    "cm = metrics.confusion_matrix(y_test,y_pred, labels=['Real','Fake'])\n",
    "plot_confusion_matrix(cm, classes=['Real', 'Fake'])   "
   ]
  },
  {
   "cell_type": "code",
   "execution_count": 29,
   "metadata": {},
   "outputs": [
    {
     "name": "stdout",
     "output_type": "stream",
     "text": [
      "<class 'pandas.core.frame.DataFrame'>\n",
      "Int64Index: 4575 entries, 0 to 5199\n",
      "Data columns (total 4 columns):\n",
      " #   Column  Non-Null Count  Dtype \n",
      "---  ------  --------------  ----- \n",
      " 0   id      4575 non-null   int64 \n",
      " 1   title   4575 non-null   object\n",
      " 2   author  4575 non-null   object\n",
      " 3   text    4575 non-null   object\n",
      "dtypes: int64(1), object(3)\n",
      "memory usage: 178.7+ KB\n"
     ]
    }
   ],
   "source": [
    "df_test = pd.read_csv('test.csv')\n",
    "df_test = shuffle(df_test)\n",
    "df_test = df_test.reset_index(drop=True)\n",
    "df_test.dropna(inplace=True)\n",
    "df_test.isnull().sum()    \n",
    "df_test.info()"
   ]
  },
  {
   "cell_type": "code",
   "execution_count": 27,
   "metadata": {},
   "outputs": [
    {
     "data": {
      "text/plain": [
       "\"def testter(newtext):\\n    #vector = tfidf_vectorizer.transform(newtext.values.astype('U'))\\n    vec_newtest = tfidf_vectorizer.transform(newtext)\\n    y_pred = pac.predict(vec_newtest)\\n    return y_pred[0]\""
      ]
     },
     "execution_count": 27,
     "metadata": {},
     "output_type": "execute_result"
    }
   ],
   "source": [
    "'''def testter(newtext):\n",
    "    #vector = tfidf_vectorizer.transform(newtext.values.astype('U'))\n",
    "    vec_newtest = tfidf_vectorizer.transform(newtext)\n",
    "    y_pred = pac.predict(vec_newtest)\n",
    "    return y_pred[0]'''"
   ]
  },
  {
   "cell_type": "code",
   "execution_count": 28,
   "metadata": {},
   "outputs": [
    {
     "data": {
      "text/plain": [
       "\"df_test['text'][0]=df_test['text'][0].apply(str)\\ndf_test['text'][0] = tfidf_vectorizer.fit_transform(df_test['text'][0].values.astype('U'))\\ntestter(df_test['text'][0])\""
      ]
     },
     "execution_count": 28,
     "metadata": {},
     "output_type": "execute_result"
    }
   ],
   "source": [
    "'''df_test['text'][0]=df_test['text'][0].apply(str)\n",
    "df_test['text'][0] = tfidf_vectorizer.fit_transform(df_test['text'][0].values.astype('U'))\n",
    "testter(df_test['text'][0])'''"
   ]
  }
 ],
 "metadata": {
  "kernelspec": {
   "display_name": "Python 3",
   "language": "python",
   "name": "python3"
  },
  "language_info": {
   "codemirror_mode": {
    "name": "ipython",
    "version": 3
   },
   "file_extension": ".py",
   "mimetype": "text/x-python",
   "name": "python",
   "nbconvert_exporter": "python",
   "pygments_lexer": "ipython3",
   "version": "3.8.5"
  }
 },
 "nbformat": 4,
 "nbformat_minor": 4
}
