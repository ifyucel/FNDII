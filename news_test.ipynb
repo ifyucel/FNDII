{
 "cells": [
  {
   "cell_type": "code",
   "execution_count": 1,
   "metadata": {},
   "outputs": [],
   "source": [
    "import numpy as np\n",
    "import pandas as pd\n",
    "import itertools\n",
    "from sklearn.model_selection import train_test_split\n",
    "from sklearn.feature_extraction.text import TfidfVectorizer\n",
    "from sklearn.linear_model import PassiveAggressiveClassifier\n",
    "from sklearn.metrics import accuracy_score, confusion_matrix\n",
    "from sklearn.model_selection import cross_val_score\n",
    "import sklearn.metrics as metrics\n",
    "from sklearn.metrics import plot_confusion_matrix\n",
    "%matplotlib inline\n",
    "from matplotlib import pyplot as plt\n",
    "import seaborn as sns\n",
    "from sklearn.utils import shuffle"
   ]
  },
  {
   "cell_type": "code",
   "execution_count": 2,
   "metadata": {},
   "outputs": [
    {
     "name": "stdout",
     "output_type": "stream",
     "text": [
      "<class 'pandas.core.frame.DataFrame'>\n",
      "RangeIndex: 20800 entries, 0 to 20799\n",
      "Data columns (total 5 columns):\n",
      " #   Column  Non-Null Count  Dtype \n",
      "---  ------  --------------  ----- \n",
      " 0   id      20800 non-null  int64 \n",
      " 1   title   20242 non-null  object\n",
      " 2   author  18843 non-null  object\n",
      " 3   text    20761 non-null  object\n",
      " 4   label   20800 non-null  int64 \n",
      "dtypes: int64(2), object(3)\n",
      "memory usage: 812.6+ KB\n"
     ]
    }
   ],
   "source": [
    "df=pd.read_csv('train.csv')\n",
    "df = shuffle(df)\n",
    "df = df.reset_index(drop=True)\n",
    "df.isnull().sum()    \n",
    "df.info()"
   ]
  },
  {
   "cell_type": "code",
   "execution_count": 3,
   "metadata": {},
   "outputs": [
    {
     "name": "stdout",
     "output_type": "stream",
     "text": [
      "<class 'pandas.core.frame.DataFrame'>\n",
      "Int64Index: 18285 entries, 0 to 20799\n",
      "Data columns (total 5 columns):\n",
      " #   Column  Non-Null Count  Dtype \n",
      "---  ------  --------------  ----- \n",
      " 0   id      18285 non-null  int64 \n",
      " 1   title   18285 non-null  object\n",
      " 2   author  18285 non-null  object\n",
      " 3   text    18285 non-null  object\n",
      " 4   label   18285 non-null  int64 \n",
      "dtypes: int64(2), object(3)\n",
      "memory usage: 857.1+ KB\n"
     ]
    }
   ],
   "source": [
    "df = shuffle(df)\n",
    "df = df.reset_index(drop=True)\n",
    "df.isnull().sum()    \n",
    "df.dropna(inplace=True) #drop rows have at least 1 NaN value ,  inplace=True make permanent\n",
    "df.info()"
   ]
  },
  {
   "cell_type": "code",
   "execution_count": 4,
   "metadata": {},
   "outputs": [
    {
     "data": {
      "text/plain": [
       "Real    10361\n",
       "Fake     7924\n",
       "Name: label, dtype: int64"
      ]
     },
     "execution_count": 4,
     "metadata": {},
     "output_type": "execute_result"
    }
   ],
   "source": [
    "conversion_dict = { 0:'Real', 1:'Fake'}\n",
    "df['label'] = df['label'].replace(conversion_dict)\n",
    "df.label.value_counts()"
   ]
  },
  {
   "cell_type": "code",
   "execution_count": 5,
   "metadata": {},
   "outputs": [
    {
     "data": {
      "text/html": [
       "<div>\n",
       "<style scoped>\n",
       "    .dataframe tbody tr th:only-of-type {\n",
       "        vertical-align: middle;\n",
       "    }\n",
       "\n",
       "    .dataframe tbody tr th {\n",
       "        vertical-align: top;\n",
       "    }\n",
       "\n",
       "    .dataframe thead th {\n",
       "        text-align: right;\n",
       "    }\n",
       "</style>\n",
       "<table border=\"1\" class=\"dataframe\">\n",
       "  <thead>\n",
       "    <tr style=\"text-align: right;\">\n",
       "      <th></th>\n",
       "      <th>text</th>\n",
       "      <th>label</th>\n",
       "    </tr>\n",
       "  </thead>\n",
       "  <tbody>\n",
       "    <tr>\n",
       "      <th>0</th>\n",
       "      <td>the strict french gun control that makes it ex...</td>\n",
       "      <td>Real</td>\n",
       "    </tr>\n",
       "    <tr>\n",
       "      <th>1</th>\n",
       "      <td>house speaker paul ryan urged republican inves...</td>\n",
       "      <td>Real</td>\n",
       "    </tr>\n",
       "    <tr>\n",
       "      <th>2</th>\n",
       "      <td>there have been two recent congressional inves...</td>\n",
       "      <td>Real</td>\n",
       "    </tr>\n",
       "    <tr>\n",
       "      <th>3</th>\n",
       "      <td>share this residents were fed up with hearing ...</td>\n",
       "      <td>Fake</td>\n",
       "    </tr>\n",
       "    <tr>\n",
       "      <th>4</th>\n",
       "      <td>garrison keillor’s “a prairie home companion” ...</td>\n",
       "      <td>Real</td>\n",
       "    </tr>\n",
       "    <tr>\n",
       "      <th>...</th>\n",
       "      <td>...</td>\n",
       "      <td>...</td>\n",
       "    </tr>\n",
       "    <tr>\n",
       "      <th>18280</th>\n",
       "      <td>google and facebook will be working with the m...</td>\n",
       "      <td>Real</td>\n",
       "    </tr>\n",
       "    <tr>\n",
       "      <th>18281</th>\n",
       "      <td>washington  —   when donald j. trump descended...</td>\n",
       "      <td>Real</td>\n",
       "    </tr>\n",
       "    <tr>\n",
       "      <th>18282</th>\n",
       "      <td>a fourth grade teacher from michigan will not ...</td>\n",
       "      <td>Real</td>\n",
       "    </tr>\n",
       "    <tr>\n",
       "      <th>18283</th>\n",
       "      <td>oakland, calif.  —   since she was 14, tiffany...</td>\n",
       "      <td>Real</td>\n",
       "    </tr>\n",
       "    <tr>\n",
       "      <th>18284</th>\n",
       "      <td>next swipe left/right this letter from manches...</td>\n",
       "      <td>Fake</td>\n",
       "    </tr>\n",
       "  </tbody>\n",
       "</table>\n",
       "<p>18285 rows × 2 columns</p>\n",
       "</div>"
      ],
      "text/plain": [
       "                                                    text label\n",
       "0      the strict french gun control that makes it ex...  Real\n",
       "1      house speaker paul ryan urged republican inves...  Real\n",
       "2      there have been two recent congressional inves...  Real\n",
       "3      share this residents were fed up with hearing ...  Fake\n",
       "4      garrison keillor’s “a prairie home companion” ...  Real\n",
       "...                                                  ...   ...\n",
       "18280  google and facebook will be working with the m...  Real\n",
       "18281  washington  —   when donald j. trump descended...  Real\n",
       "18282  a fourth grade teacher from michigan will not ...  Real\n",
       "18283  oakland, calif.  —   since she was 14, tiffany...  Real\n",
       "18284  next swipe left/right this letter from manches...  Fake\n",
       "\n",
       "[18285 rows x 2 columns]"
      ]
     },
     "execution_count": 5,
     "metadata": {},
     "output_type": "execute_result"
    }
   ],
   "source": [
    "df.drop([\"title\"],axis=1,inplace=True)\n",
    "df.drop([\"id\"],axis=1,inplace=True)\n",
    "df.drop([\"author\"],axis=1,inplace=True)\n",
    "\n",
    "#df['text'] = df['text'].str.replace(r'\\W',\"\")\n",
    "\n",
    "df['text']=df['text'].apply(str)\n",
    "\n",
    "df['text'] = df['text'].apply(lambda x: x.lower())\n",
    "\n",
    "df = shuffle(df)\n",
    "df = df.reset_index(drop=True)\n",
    "\n",
    "df"
   ]
  },
  {
   "cell_type": "code",
   "execution_count": 6,
   "metadata": {
    "scrolled": true
   },
   "outputs": [
    {
     "data": {
      "text/plain": [
       "<AxesSubplot:>"
      ]
     },
     "execution_count": 6,
     "metadata": {},
     "output_type": "execute_result"
    },
    {
     "data": {
      "image/png": "[encoded data removed]",
      "text/plain": [
       "<Figure size 432x288 with 1 Axes>"
      ]
     },
     "metadata": {
      "needs_background": "light"
     },
     "output_type": "display_data"
    }
   ],
   "source": [
    "df['label'].value_counts().plot(kind = 'bar')"
   ]
  },
  {
   "cell_type": "code",
   "execution_count": 7,
   "metadata": {},
   "outputs": [
    {
     "data": {
      "text/html": [
       "<div>\n",
       "<style scoped>\n",
       "    .dataframe tbody tr th:only-of-type {\n",
       "        vertical-align: middle;\n",
       "    }\n",
       "\n",
       "    .dataframe tbody tr th {\n",
       "        vertical-align: top;\n",
       "    }\n",
       "\n",
       "    .dataframe thead th {\n",
       "        text-align: right;\n",
       "    }\n",
       "</style>\n",
       "<table border=\"1\" class=\"dataframe\">\n",
       "  <thead>\n",
       "    <tr style=\"text-align: right;\">\n",
       "      <th></th>\n",
       "      <th>text</th>\n",
       "      <th>label</th>\n",
       "    </tr>\n",
       "  </thead>\n",
       "  <tbody>\n",
       "    <tr>\n",
       "      <th>0</th>\n",
       "      <td>the strict french gun control that makes it ex...</td>\n",
       "      <td>Real</td>\n",
       "    </tr>\n",
       "    <tr>\n",
       "      <th>1</th>\n",
       "      <td>house speaker paul ryan urged republican inves...</td>\n",
       "      <td>Real</td>\n",
       "    </tr>\n",
       "    <tr>\n",
       "      <th>2</th>\n",
       "      <td>there have been two recent congressional inves...</td>\n",
       "      <td>Real</td>\n",
       "    </tr>\n",
       "    <tr>\n",
       "      <th>3</th>\n",
       "      <td>share this residents were fed up with hearing ...</td>\n",
       "      <td>Fake</td>\n",
       "    </tr>\n",
       "    <tr>\n",
       "      <th>4</th>\n",
       "      <td>garrison keillor’s “a prairie home companion” ...</td>\n",
       "      <td>Real</td>\n",
       "    </tr>\n",
       "    <tr>\n",
       "      <th>...</th>\n",
       "      <td>...</td>\n",
       "      <td>...</td>\n",
       "    </tr>\n",
       "    <tr>\n",
       "      <th>18280</th>\n",
       "      <td>google and facebook will be working with the m...</td>\n",
       "      <td>Real</td>\n",
       "    </tr>\n",
       "    <tr>\n",
       "      <th>18281</th>\n",
       "      <td>washington  —   when donald j. trump descended...</td>\n",
       "      <td>Real</td>\n",
       "    </tr>\n",
       "    <tr>\n",
       "      <th>18282</th>\n",
       "      <td>a fourth grade teacher from michigan will not ...</td>\n",
       "      <td>Real</td>\n",
       "    </tr>\n",
       "    <tr>\n",
       "      <th>18283</th>\n",
       "      <td>oakland, calif.  —   since she was 14, tiffany...</td>\n",
       "      <td>Real</td>\n",
       "    </tr>\n",
       "    <tr>\n",
       "      <th>18284</th>\n",
       "      <td>next swipe left/right this letter from manches...</td>\n",
       "      <td>Fake</td>\n",
       "    </tr>\n",
       "  </tbody>\n",
       "</table>\n",
       "<p>18285 rows × 2 columns</p>\n",
       "</div>"
      ],
      "text/plain": [
       "                                                    text label\n",
       "0      the strict french gun control that makes it ex...  Real\n",
       "1      house speaker paul ryan urged republican inves...  Real\n",
       "2      there have been two recent congressional inves...  Real\n",
       "3      share this residents were fed up with hearing ...  Fake\n",
       "4      garrison keillor’s “a prairie home companion” ...  Real\n",
       "...                                                  ...   ...\n",
       "18280  google and facebook will be working with the m...  Real\n",
       "18281  washington  —   when donald j. trump descended...  Real\n",
       "18282  a fourth grade teacher from michigan will not ...  Real\n",
       "18283  oakland, calif.  —   since she was 14, tiffany...  Real\n",
       "18284  next swipe left/right this letter from manches...  Fake\n",
       "\n",
       "[18285 rows x 2 columns]"
      ]
     },
     "execution_count": 7,
     "metadata": {},
     "output_type": "execute_result"
    }
   ],
   "source": [
    "df"
   ]
  },
  {
   "cell_type": "code",
   "execution_count": 8,
   "metadata": {},
   "outputs": [
    {
     "data": {
      "text/plain": [
       "'the strict french gun control that makes it extremely difficult for   citizens to defend themselves has proven little more than a paper tiger when it comes to prohibiting terrorists and public attackers from acquiring the guns they need to kill innocents. [the april 20 attack on a police patrol on the champs élysées illustrates this perfectly in light of the fact that the alleged attacker —  karim cheurfi —  was previously jailed for shooting at officers with a . 38 special revolver. the daily mail reports that cheurfi was imprisoned “in 2005 for trying to kill two policemen” and wounding a third person with the revolver.  on thursday he allegedly used a kalashnikov to kill two officers. he was then shot dead, and upon searching his car, police discovered more weapons, “including a pump action shotgun. ” the university of sydney’s gunpolicy. org describes french gun laws as “restrictive,” yet they were powerless to stop cheurfi, just as they offered no hindrance to the    who entered the alexis de tocqueville high school in grasse   and opened fire. despite universal background checks —  “which [consider] criminal, mental health and [physical] health” issues —  the local reports the    was able to enter the school carrying “a revolver, a pistol, a hunting rifle and two grenades. ” consider the november 13, 2015, terror attack on unarmed parisians. in that attack, multiple terrorists opened fire with   or   rifles. they killed 130 innocents. the universal background checks were not a hindrance, and the rest of the french gun laws were powerless to prevent the attack. it is important to note that a review of french gun laws (2012) shows that the background check in france is an ongoing process rather than a one time event. such checks entail acquiring and maintaining “an active shooting club [membership]” and going to the range “at least three times a year. ” they also include “seeing a doctor every year,” who declares one “physically and mentally capable of owning a firearm,” and filling out various pieces of paperwork as well. yet 130 innocents were gunned down on november 13, 2015. and we cannot overlook the january 7, 2015, attack on charlie hebdo headquarters. twelve innocents —  including two police officers —  were gunned down by armed terrorists who were not hindered by strict gun control. french police unions responded to the charlie hebdo attack by explaining that gun control simply was not working for them they could not continue to walk the streets of paris presuming that terrorists would not acquire arms. the associated press reported that the police unions demanded “more” guns and “heavier” guns, as well as “protective gear, better training for   and more legal tools to guard against terrorists. ” gun control reduces   citizens’ ability to defend themselves and places police officers at a marked disadvantage. on the other hand, it poses no hindrance to determined terrorists who target citizens and police officers alike. awr hawkins is the second amendment columnist for breitbart news and host of bullets with awr hawkins, a breitbart news podcast. he is also the political analyst for armed american radio. follow him on twitter: @awrhawkins. reach him directly at awrhawkins@breitbart. com.'"
      ]
     },
     "execution_count": 8,
     "metadata": {},
     "output_type": "execute_result"
    }
   ],
   "source": [
    "import string \n",
    "#df[\"text\"] = df['text'].str.replace('[^\\w\\s]','')\n",
    "df['text'].str.replace('[{}]'.format(string.punctuation), '')\n",
    "df['text'][0]"
   ]
  },
  {
   "cell_type": "code",
   "execution_count": 23,
   "metadata": {},
   "outputs": [],
   "source": [
    "x_train,x_test,y_train,y_test=train_test_split(df['text'], df['label'], test_size=0.3, random_state=7, shuffle=True)\n",
    "tfidf_vectorizer=TfidfVectorizer(stop_words='english', max_df=0.7) #delete uninformative stop words him and etc..."
   ]
  },
  {
   "cell_type": "code",
   "execution_count": 24,
   "metadata": {},
   "outputs": [
    {
     "data": {
      "text/plain": [
       "'Real'"
      ]
     },
     "execution_count": 24,
     "metadata": {},
     "output_type": "execute_result"
    }
   ],
   "source": [
    "y_train[0]"
   ]
  },
  {
   "cell_type": "code",
   "execution_count": 25,
   "metadata": {},
   "outputs": [
    {
     "data": {
      "text/plain": [
       "'the strict french gun control that makes it extremely difficult for   citizens to defend themselves has proven little more than a paper tiger when it comes to prohibiting terrorists and public attackers from acquiring the guns they need to kill innocents. [the april 20 attack on a police patrol on the champs élysées illustrates this perfectly in light of the fact that the alleged attacker —  karim cheurfi —  was previously jailed for shooting at officers with a . 38 special revolver. the daily mail reports that cheurfi was imprisoned “in 2005 for trying to kill two policemen” and wounding a third person with the revolver.  on thursday he allegedly used a kalashnikov to kill two officers. he was then shot dead, and upon searching his car, police discovered more weapons, “including a pump action shotgun. ” the university of sydney’s gunpolicy. org describes french gun laws as “restrictive,” yet they were powerless to stop cheurfi, just as they offered no hindrance to the    who entered the alexis de tocqueville high school in grasse   and opened fire. despite universal background checks —  “which [consider] criminal, mental health and [physical] health” issues —  the local reports the    was able to enter the school carrying “a revolver, a pistol, a hunting rifle and two grenades. ” consider the november 13, 2015, terror attack on unarmed parisians. in that attack, multiple terrorists opened fire with   or   rifles. they killed 130 innocents. the universal background checks were not a hindrance, and the rest of the french gun laws were powerless to prevent the attack. it is important to note that a review of french gun laws (2012) shows that the background check in france is an ongoing process rather than a one time event. such checks entail acquiring and maintaining “an active shooting club [membership]” and going to the range “at least three times a year. ” they also include “seeing a doctor every year,” who declares one “physically and mentally capable of owning a firearm,” and filling out various pieces of paperwork as well. yet 130 innocents were gunned down on november 13, 2015. and we cannot overlook the january 7, 2015, attack on charlie hebdo headquarters. twelve innocents —  including two police officers —  were gunned down by armed terrorists who were not hindered by strict gun control. french police unions responded to the charlie hebdo attack by explaining that gun control simply was not working for them they could not continue to walk the streets of paris presuming that terrorists would not acquire arms. the associated press reported that the police unions demanded “more” guns and “heavier” guns, as well as “protective gear, better training for   and more legal tools to guard against terrorists. ” gun control reduces   citizens’ ability to defend themselves and places police officers at a marked disadvantage. on the other hand, it poses no hindrance to determined terrorists who target citizens and police officers alike. awr hawkins is the second amendment columnist for breitbart news and host of bullets with awr hawkins, a breitbart news podcast. he is also the political analyst for armed american radio. follow him on twitter: @awrhawkins. reach him directly at awrhawkins@breitbart. com.'"
      ]
     },
     "execution_count": 25,
     "metadata": {},
     "output_type": "execute_result"
    }
   ],
   "source": [
    "x_train[0]"
   ]
  },
  {
   "cell_type": "code",
   "execution_count": 26,
   "metadata": {},
   "outputs": [],
   "source": [
    "vec_train=tfidf_vectorizer.fit_transform(x_train.values.astype('U')) #fit to data than transform it \n",
    "vec_test=tfidf_vectorizer.transform(x_test.values.astype('U')) #Uses the vocabulary and document frequencies (df) \n",
    "# which learned by fit_transform"
   ]
  },
  {
   "cell_type": "code",
   "execution_count": 27,
   "metadata": {},
   "outputs": [
    {
     "data": {
      "text/plain": [
       "PassiveAggressiveClassifier(max_iter=50)"
      ]
     },
     "execution_count": 27,
     "metadata": {},
     "output_type": "execute_result"
    }
   ],
   "source": [
    "pac=PassiveAggressiveClassifier(max_iter=50) #maximum number of passes over the training epochs, responds happenning in  \n",
    "# every 50 iterations. Default is 1000 but for large datas\n",
    "#gets stimulates by wrong epochs and have responds to actions\n",
    "pac.fit(vec_train,y_train) # fit label to vector train to teach ML how to respond"
   ]
  },
  {
   "cell_type": "code",
   "execution_count": 28,
   "metadata": {},
   "outputs": [],
   "source": [
    "y_pred=pac.predict(vec_test) #giving 0.8 of data to empty matrix \n",
    "score=accuracy_score(y_test,y_pred) # y_pred's labels will be passed to y_test empty matrix , than it will be compared with \n",
    "#y_train which actual label "
   ]
  },
  {
   "cell_type": "code",
   "execution_count": 29,
   "metadata": {},
   "outputs": [
    {
     "name": "stdout",
     "output_type": "stream",
     "text": [
      "Accuracy score \n",
      "96.026\n"
     ]
    }
   ],
   "source": [
    "print('Accuracy score ')\n",
    "print(round(score*100,3))"
   ]
  },
  {
   "cell_type": "code",
   "execution_count": 16,
   "metadata": {},
   "outputs": [
    {
     "data": {
      "text/plain": [
       "array([[1977,   58],\n",
       "       [  81, 1541]], dtype=int64)"
      ]
     },
     "execution_count": 16,
     "metadata": {},
     "output_type": "execute_result"
    }
   ],
   "source": [
    "confusion_matrix(y_test,y_pred, labels=['Real','Fake']) #1608 true tested text which 63 times ML was wrong \n",
    "#1205 fake news tested but 76 times ML was wrong"
   ]
  },
  {
   "cell_type": "code",
   "execution_count": 17,
   "metadata": {},
   "outputs": [
    {
     "name": "stdout",
     "output_type": "stream",
     "text": [
      "              precision    recall  f1-score   support\n",
      "\n",
      "        Fake       0.96      0.95      0.96      1622\n",
      "        Real       0.96      0.97      0.97      2035\n",
      "\n",
      "    accuracy                           0.96      3657\n",
      "   macro avg       0.96      0.96      0.96      3657\n",
      "weighted avg       0.96      0.96      0.96      3657\n",
      "\n"
     ]
    }
   ],
   "source": [
    "from sklearn.metrics import classification_report\n",
    "report = classification_report(y_test,y_pred)\n",
    "print(report)"
   ]
  },
  {
   "cell_type": "code",
   "execution_count": 18,
   "metadata": {},
   "outputs": [
    {
     "data": {
      "text/plain": [
       "' all of them between 0-1\\ntp / (tp + fp) precision -> tp is the number of true positives and fp the number of false positives\\ntp / (tp + fn) recall -> fn the number of false negatives\\n\\nweighted harmonic mean of the precision and recall->f1-score\\n\\nThe number of occurrences of each label in y_true ->support\\n'"
      ]
     },
     "execution_count": 18,
     "metadata": {},
     "output_type": "execute_result"
    }
   ],
   "source": [
    "''' all of them between 0-1\n",
    "tp / (tp + fp) precision -> tp is the number of true positives and fp the number of false positives\n",
    "tp / (tp + fn) recall -> fn the number of false negatives\n",
    "\n",
    "weighted harmonic mean of the precision and recall->f1-score\n",
    "\n",
    "The number of occurrences of each label in y_true ->support\n",
    "'''"
   ]
  },
  {
   "cell_type": "code",
   "execution_count": 19,
   "metadata": {},
   "outputs": [
    {
     "name": "stdout",
     "output_type": "stream",
     "text": [
      "Confusion matrix, without normalization\n"
     ]
    },
    {
     "data": {
      "image/png": "[encoded data removed]",
      "text/plain": [
       "<Figure size 432x288 with 1 Axes>"
      ]
     },
     "metadata": {
      "needs_background": "light"
     },
     "output_type": "display_data"
    }
   ],
   "source": [
    "# https://stackoverflow.com/questions/48817300/sklearn-plot-confusion-matrix-combined-across-trainingtest-sets\n",
    "def plot_confusion_matrix(cm, classes,\n",
    "                          normalize=False,\n",
    "                          title='Confusion matrix',\n",
    "                          cmap=plt.cm.Blues):\n",
    "    plt.imshow(cm, interpolation='nearest', cmap=cmap)\n",
    "    #plt.title(title)\n",
    "    #plt.colorbar()\n",
    "    tick_marks = np.arange(len(classes))\n",
    "    plt.xticks(tick_marks, classes, rotation=45)\n",
    "    plt.yticks(tick_marks, classes)\n",
    "\n",
    "    if normalize:\n",
    "        cm = cm.astype('float') / cm.sum(axis=1)[:, np.newaxis]\n",
    "        print(\"Normalized confusion matrix\")\n",
    "    else:\n",
    "        print('Confusion matrix, without normalization')\n",
    "\n",
    "    thresh = cm.max() / 2.\n",
    "    for i, j in itertools.product(range(cm.shape[0]), range(cm.shape[1])):\n",
    "        plt.text(j, i, cm[i, j],\n",
    "                 horizontalalignment=\"center\",\n",
    "                 color=\"white\" if cm[i, j] > thresh else \"black\")\n",
    "\n",
    "    #plt.tight_layout()\n",
    "    plt.ylabel('True label')\n",
    "    plt.xlabel('Predicted label')\n",
    "\n",
    "cm = metrics.confusion_matrix(y_test,y_pred, labels=['Real','Fake'])\n",
    "plot_confusion_matrix(cm, classes=['Real', 'Fake'])   "
   ]
  },
  {
   "cell_type": "code",
   "execution_count": 20,
   "metadata": {},
   "outputs": [
    {
     "name": "stdout",
     "output_type": "stream",
     "text": [
      "<class 'pandas.core.frame.DataFrame'>\n",
      "Int64Index: 4575 entries, 0 to 5199\n",
      "Data columns (total 4 columns):\n",
      " #   Column  Non-Null Count  Dtype \n",
      "---  ------  --------------  ----- \n",
      " 0   id      4575 non-null   int64 \n",
      " 1   title   4575 non-null   object\n",
      " 2   author  4575 non-null   object\n",
      " 3   text    4575 non-null   object\n",
      "dtypes: int64(1), object(3)\n",
      "memory usage: 178.7+ KB\n"
     ]
    }
   ],
   "source": [
    "df_test = pd.read_csv('test.csv')\n",
    "df_test = shuffle(df_test)\n",
    "df_test = df_test.reset_index(drop=True)\n",
    "df_test.dropna(inplace=True)\n",
    "df_test.isnull().sum()    \n",
    "df_test.info()"
   ]
  },
  {
   "cell_type": "code",
   "execution_count": 21,
   "metadata": {},
   "outputs": [
    {
     "data": {
      "text/plain": [
       "\"def testter(newtext):\\n    #vector = tfidf_vectorizer.transform(newtext.values.astype('U'))\\n    vec_newtest = tfidf_vectorizer.transform(newtext)\\n    y_pred = pac.predict(vec_newtest)\\n    return y_pred[0]\""
      ]
     },
     "execution_count": 21,
     "metadata": {},
     "output_type": "execute_result"
    }
   ],
   "source": [
    "'''def testter(newtext):\n",
    "    #vector = tfidf_vectorizer.transform(newtext.values.astype('U'))\n",
    "    vec_newtest = tfidf_vectorizer.transform(newtext)\n",
    "    y_pred = pac.predict(vec_newtest)\n",
    "    return y_pred[0]'''"
   ]
  },
  {
   "cell_type": "code",
   "execution_count": 22,
   "metadata": {},
   "outputs": [
    {
     "data": {
      "text/plain": [
       "\"df_test['text'][0]=df_test['text'][0].apply(str)\\ndf_test['text'][0] = tfidf_vectorizer.fit_transform(df_test['text'][0].values.astype('U'))\\ntestter(df_test['text'][0])\""
      ]
     },
     "execution_count": 22,
     "metadata": {},
     "output_type": "execute_result"
    }
   ],
   "source": [
    "'''df_test['text'][0]=df_test['text'][0].apply(str)\n",
    "df_test['text'][0] = tfidf_vectorizer.fit_transform(df_test['text'][0].values.astype('U'))\n",
    "testter(df_test['text'][0])'''"
   ]
  }
 ],
 "metadata": {
  "kernelspec": {
   "display_name": "Python 3",
   "language": "python",
   "name": "python3"
  },
  "language_info": {
   "codemirror_mode": {
    "name": "ipython",
    "version": 3
   },
   "file_extension": ".py",
   "mimetype": "text/x-python",
   "name": "python",
   "nbconvert_exporter": "python",
   "pygments_lexer": "ipython3",
   "version": "3.8.5"
  }
 },
 "nbformat": 4,
 "nbformat_minor": 4
}
